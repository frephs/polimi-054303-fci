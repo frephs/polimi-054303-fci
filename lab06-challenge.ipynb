{
  "nbformat": 4,
  "nbformat_minor": 0,
  "metadata": {
    "colab": {
      "provenance": []
    },
    "kernelspec": {
      "name": "python3",
      "display_name": "Python 3"
    },
    "language_info": {
      "name": "python"
    }
  },
  "cells": [
    {
      "cell_type": "code",
      "execution_count": null,
      "metadata": {
        "colab": {
          "base_uri": "https://localhost:8080/"
        },
        "id": "5T-6a8vt3yEJ",
        "outputId": "72b7b57e-28fd-4e69-aeca-98aefcff0142"
      },
      "outputs": [
        {
          "output_type": "stream",
          "name": "stdout",
          "text": [
            "b'Congratulazioni, ti sei registrato correttamente. Invia il codice con una richiesta POST HTTP alla risorsa /1giub. Code: k2q2lvvfv0'\n"
          ]
        }
      ],
      "source": [
        "from socket import *\n",
        "serverName = '131.175.120.29'\n",
        "serverPort = 13000\n",
        "clientSocket = socket(AF_INET, SOCK_DGRAM)\n",
        "message = '{\"person_code\": \"10765842\", \"email\": \"francesco1.genovese@mail.polimi.it\", \"msg_code\": \"register\"}'\n",
        "message = message.encode()\n",
        "clientSocket.sendto(message, (serverName, serverPort))\n",
        "modifiedMessage, serverAddress = clientSocket.recvfrom(2048)\n",
        "print(modifiedMessage)\n",
        "clientSocket.close()\n",
        "\n"
      ]
    },
    {
      "cell_type": "code",
      "source": [
        "# prompt: boilerplate code to send a post request to an url and a port and a resource\n",
        "\n",
        "import requests\n",
        "\n",
        "\n",
        "def send_post_request(url, port, resource, data):\n",
        "    try:\n",
        "        full_url = f\"http://{url}:{port}/{resource}\"\n",
        "        response = requests.post(full_url, data=data)\n",
        "        response.raise_for_status()\n",
        "        return response\n",
        "    except requests.exceptions.RequestException as e:\n",
        "        print(f\"An error occurred: {e}\")\n",
        "        return None\n",
        "\n",
        "port = 12000\n",
        "url = '131.175.120.29'\n",
        "resource = '1giub'\n",
        "message = '{\"person_code\": \"10765842\", \"email\": \"francesco1.genovese@mail.polimi.it\", \"msg_code\": \"k2q2lvvfv0\"}'\n",
        "\n",
        "\n",
        "response = send_post_request(url, port, resource, message.encode())\n",
        "if response:\n",
        "    print(\"Request successful!\")\n",
        "    print(f\"Status code: {response.status_code}\")\n",
        "    print(f\"Response content: {response.text}\")\n",
        "    # Process the response as needed\n",
        "else:\n",
        "  print(\"Request failed!\")\n"
      ],
      "metadata": {
        "colab": {
          "base_uri": "https://localhost:8080/"
        },
        "id": "NbXdzQYg5hnn",
        "outputId": "fc574e68-2639-47be-b8eb-9ba19372bf36"
      },
      "execution_count": null,
      "outputs": [
        {
          "output_type": "stream",
          "name": "stdout",
          "text": [
            "Request successful!\n",
            "Status code: 200\n",
            "Response content: Ottimo! Hai completato questo step, vai pure al prossimo! Invia il codice tramite il protocollo TCP. Code Starts here -->0kmne2i3eug<-- End of Code\n"
          ]
        }
      ]
    },
    {
      "cell_type": "code",
      "source": [
        "# prompt: now, send the a code through a tcp client\n",
        "\n",
        "from socket import *\n",
        "import requests\n",
        "import json\n",
        "\n",
        "def send_tcp_message(server_name, server_port, message):\n",
        "    try:\n",
        "        client_socket = socket(AF_INET, SOCK_STREAM)  # Use SOCK_STREAM for TCP\n",
        "        client_socket.connect((server_name, server_port))\n",
        "        client_socket.sendall(message.encode())  # Use sendall for TCP\n",
        "\n",
        "        response = client_socket.recv(2048)\n",
        "        client_socket.close()\n",
        "        return response\n",
        "    except Exception as e:\n",
        "        print(f\"An error occurred: {e}\")\n",
        "        return None\n",
        "\n",
        "\n",
        "serverName = '131.175.120.29'\n",
        "serverPort = 12100\n",
        "message = '{\"person_code\": \"10765842\", \"email\": \"francesco1.genovese@mail.polimi.it\", \"msg_code\": \"0kmne2i3eug\"}'\n",
        "\n",
        "response = send_tcp_message(serverName, serverPort, message)\n",
        "\n",
        "if response:\n",
        "    print(\"TCP Message sent successfully!\")\n",
        "    print(f\"Response: {response.decode()}\") # Decode the response\n",
        "else:\n",
        "    print(\"Failed to send TCP message.\")\n"
      ],
      "metadata": {
        "colab": {
          "base_uri": "https://localhost:8080/"
        },
        "id": "T_d38Q6a80mV",
        "outputId": "3bf9af17-f343-4623-b594-af6d0cddbeb4"
      },
      "execution_count": null,
      "outputs": [
        {
          "output_type": "stream",
          "name": "stdout",
          "text": [
            "TCP Message sent successfully!\n",
            "Response: Vai alla grande! Continua con i prossimi step. Invia il codice tramite il protocollo TCP. Usa 2 diversi clients per mandare 2 copie del codice e completare questo step. Code Starts here -->9s6gwd08g8v<-- End of Code\n"
          ]
        }
      ]
    },
    {
      "cell_type": "code",
      "source": [
        "# prompt: now, send the a code through a tcp client\n",
        "\n",
        "from socket import *\n",
        "import requests\n",
        "\n",
        "\n",
        "def send_tcp_message(server_name, server_port, message):\n",
        "    try:\n",
        "        client_socket = socket(AF_INET, SOCK_STREAM)  # Use SOCK_STREAM for TCP\n",
        "        client_socket.connect((server_name, server_port))\n",
        "        client_socket.sendall(message.encode())  # Use sendall for TCP\n",
        "\n",
        "        response = client_socket.recv(2048)\n",
        "        client_socket.close()\n",
        "        return response\n",
        "    except Exception as e:\n",
        "        print(f\"An error occurred: {e}\")\n",
        "        return None\n",
        "\n",
        "\n",
        "serverName = '131.175.120.29'\n",
        "serverPort = 12100\n",
        "message = '{\"person_code\": \"10765842\", \"email\": \"francesco1.genovese@mail.polimi.it\", \"msg_code\": \"9s6gwd08g8v\"}'\n",
        "\n",
        "response = send_tcp_message(serverName, serverPort, message)\n",
        "response = send_tcp_message(serverName, serverPort, message)\n",
        "\n",
        "if response:\n",
        "    print(\"TCP Message sent successfully!\")\n",
        "    print(f\"Response: {response.decode()}\") # Decode the response\n",
        "else:\n",
        "    print(\"Failed to send TCP message.\")\n"
      ],
      "metadata": {
        "colab": {
          "base_uri": "https://localhost:8080/"
        },
        "id": "p9xvP_Ad9brd",
        "outputId": "03180836-24f4-4b21-cc9a-751b4810d07a"
      },
      "execution_count": null,
      "outputs": [
        {
          "output_type": "stream",
          "name": "stdout",
          "text": [
            "TCP Message sent successfully!\n",
            "Response: Vai alla grande! Continua con i prossimi step. Invia il codice tramite il protocollo UDP. Usa 5 diversi clients per mandare 5 copie del codice e completare questo step. Code Starts here -->nxk83o1iu0l3<-- End of Code\n"
          ]
        }
      ]
    },
    {
      "cell_type": "code",
      "source": [
        "# prompt: now write a method to send utp messages now\n",
        "\n",
        "import socket\n",
        "\n",
        "def send_utp_message(server_name, server_port, message):\n",
        "    \"\"\"Sends a message using UDP (UTP is not a standard protocol).\"\"\"\n",
        "    try:\n",
        "        client_socket = socket.socket(socket.AF_INET, socket.SOCK_DGRAM)  # Use SOCK_DGRAM for UDP\n",
        "        client_socket.sendto(message.encode(), (server_name, server_port))\n",
        "        response, server_address = client_socket.recvfrom(2048)\n",
        "        client_socket.close()\n",
        "        return response\n",
        "    except Exception as e:\n",
        "        print(f\"An error occurred: {e}\")\n",
        "        return None\n",
        "\n",
        "# Example usage (replace with your server details and message)\n",
        "server_name = '131.175.120.29'  # Replace with your server's IP address or hostname\n",
        "server_port = 13000  # Replace with your server's port number\n",
        "message = '{\"person_code\": \"10765842\", \"email\": \"francesco1.genovese@mail.polimi.it\", \"msg_code\": \"nxk83o1iu0l3\"}'\n",
        "\n",
        "\n",
        "response = send_utp_message(server_name, server_port, message)\n",
        "response = send_utp_message(server_name, server_port, message)\n",
        "response = send_utp_message(server_name, server_port, message)\n",
        "response = send_utp_message(server_name, server_port, message)\n",
        "response = send_utp_message(server_name, server_port, message)\n",
        "\n",
        "if response:\n",
        "    print(\"UTP Message sent successfully!\")\n",
        "    print(f\"Response: {response.decode()}\")\n",
        "else:\n",
        "    print(\"Failed to send UTP message.\")\n"
      ],
      "metadata": {
        "colab": {
          "base_uri": "https://localhost:8080/"
        },
        "id": "cJGwsgzt9k9w",
        "outputId": "e24e208c-e009-4aa0-d658-4d597a6f1e9a"
      },
      "execution_count": null,
      "outputs": [
        {
          "output_type": "stream",
          "name": "stdout",
          "text": [
            "UTP Message sent successfully!\n",
            "Response: Ottimo lavoro, non mollare! Invia il codice tramite il protocollo TCP. Code Starts here -->3l8nnitd<-- End of Code\n"
          ]
        }
      ]
    },
    {
      "cell_type": "code",
      "source": [
        "import socket\n",
        "\n",
        "def send_tcp_message(server_name, server_port, message):\n",
        "    try:\n",
        "        with socket.socket(socket.AF_INET, socket.SOCK_STREAM) as client_socket:\n",
        "            client_socket.connect((server_name, server_port))\n",
        "            client_socket.sendall(message.encode())\n",
        "            response = client_socket.recv(2048)\n",
        "            return response\n",
        "    except Exception as e:\n",
        "        print(f\"An error occurred: {e}\")\n",
        "        return None\n",
        "\n",
        "serverName = '131.175.120.29'\n",
        "serverPort = 12100\n",
        "message = '{\"person_code\": \"10765842\", \"email\": \"francesco1.genovese@mail.polimi.it\", \"msg_code\": \"3l8nnitd\"}'\n",
        "\n",
        "response = send_tcp_message(serverName, serverPort, message)\n",
        "\n",
        "if response:\n",
        "    print(\"TCP Message sent successfully!\")\n",
        "    print(f\"Response: {response.decode()}\")\n",
        "else:\n",
        "    print(\"Failed to send TCP message.\")\n"
      ],
      "metadata": {
        "colab": {
          "base_uri": "https://localhost:8080/"
        },
        "id": "T5jkwGT1-eAb",
        "outputId": "3f5d0fd3-0933-44ba-8e15-e30a2d8c097a"
      },
      "execution_count": null,
      "outputs": [
        {
          "output_type": "stream",
          "name": "stdout",
          "text": [
            "TCP Message sent successfully!\n",
            "Response: Ottimo! Hai completato questo step, vai pure al prossimo! Invia il codice tramite il protocollo TCP. Usa 5 diversi clients per mandare 5 copie del codice e completare questo step. Code Starts here -->v4k1v00qq<-- End of Code\n"
          ]
        }
      ]
    },
    {
      "cell_type": "code",
      "source": [
        "\n",
        "serverName = '131.175.120.29'\n",
        "serverPort = 12100\n",
        "message = '{\"person_code\": \"10765842\", \"email\": \"francesco1.genovese@mail.polimi.it\", \"msg_code\": \"v4k1v00qq\"}'\n",
        "\n",
        "response = send_tcp_message(serverName, serverPort, message)\n",
        "response = send_tcp_message(serverName, serverPort, message)\n",
        "response = send_tcp_message(serverName, serverPort, message)\n",
        "response = send_tcp_message(serverName, serverPort, message)\n",
        "response = send_tcp_message(serverName, serverPort, message)\n",
        "if response:\n",
        "    print(\"TCP Message sent successfully!\")\n",
        "    print(f\"Response: {response.decode()}\")\n",
        "else:\n",
        "    print(\"Failed to send TCP message.\")"
      ],
      "metadata": {
        "colab": {
          "base_uri": "https://localhost:8080/"
        },
        "id": "ZTjap5bB_kyI",
        "outputId": "d97be6d4-8480-4f51-dce4-3242f5eeae7a"
      },
      "execution_count": null,
      "outputs": [
        {
          "output_type": "stream",
          "name": "stdout",
          "text": [
            "TCP Message sent successfully!\n",
            "Response: Ottimo! Hai completato questo step, vai pure al prossimo! Invia il codice con una richiesta POST HTTP alla risorsa /l43o7. Code Starts here -->pptzmm0wj<-- End of Code\n"
          ]
        }
      ]
    },
    {
      "cell_type": "code",
      "source": [
        "port = 12000\n",
        "url = '131.175.120.29'\n",
        "resource = 'l43o7'\n",
        "message = '{\"person_code\": \"10765842\", \"email\": \"francesco1.genovese@mail.polimi.it\", \"msg_code\": \"pptzmm0wj\"}'\n",
        "\n",
        "\n",
        "response = send_post_request(url, port, resource, message.encode())\n",
        "if response:\n",
        "    print(\"Request successful!\")\n",
        "    print(f\"Status code: {response.status_code}\")\n",
        "    print(f\"Response content: {response.text}\")\n",
        "    # Process the response as needed\n",
        "else:\n",
        "  print(\"Request failed!\")\n",
        "\n"
      ],
      "metadata": {
        "colab": {
          "base_uri": "https://localhost:8080/"
        },
        "id": "T9jRUA2t_xLQ",
        "outputId": "256b27c7-594a-4900-8502-2751c0f6c99c"
      },
      "execution_count": null,
      "outputs": [
        {
          "output_type": "stream",
          "name": "stdout",
          "text": [
            "Request successful!\n",
            "Status code: 200\n",
            "Response content: Ottimo! Hai completato questo step, vai pure al prossimo! Invia il codice con una richiesta PUT HTTP alla risorsa /i5afm/73a4r/wzgmh. Code Starts here -->ep9rpn02bse<-- End of Code\n"
          ]
        }
      ]
    },
    {
      "cell_type": "code",
      "source": [
        "port = 12000\n",
        "url = '131.175.120.29'\n",
        "resource = '/i5afm/73a4r/wzgmh'\n",
        "message = '{\"person_code\": \"10765842\", \"email\": \"francesco1.genovese@mail.polimi.it\", \"msg_code\": \"ep9rpn02bse\"}'\n",
        "\n",
        "\n",
        "def send_put_request(url, port, resource, data):\n",
        "    try:\n",
        "        full_url = f\"http://{url}:{port}/{resource}\"\n",
        "        response = requests.put(full_url, data=data)\n",
        "        response.raise_for_status()\n",
        "        return response\n",
        "    except requests.exceptions.RequestException as e:\n",
        "        print(f\"An error occurred: {e}\")\n",
        "        return None\n",
        "\n",
        "response = send_put_request(url, port, resource, message.encode())\n",
        "\n",
        "if response:\n",
        "    print(\"Request successful!\")\n",
        "    print(f\"Status code: {response.status_code}\")\n",
        "    print(f\"Response content: {response.text}\")\n",
        "    # Process the response as needed\n",
        "else:\n",
        "  print(\"Request failed!\")\n"
      ],
      "metadata": {
        "colab": {
          "base_uri": "https://localhost:8080/"
        },
        "id": "wnqPtFELAIJE",
        "outputId": "0d14a721-c17b-49b3-f3bd-19efb54d3cf6"
      },
      "execution_count": null,
      "outputs": [
        {
          "output_type": "stream",
          "name": "stdout",
          "text": [
            "Request successful!\n",
            "Status code: 200\n",
            "Response content: Ottimo lavoro, non mollare! Invia il codice con una richiesta DELETE HTTP alla risorsa /83vq7/huvun/g54bl/5w5e3. Code Starts here -->exlfn8nbde4g<-- End of Code\n"
          ]
        }
      ]
    },
    {
      "cell_type": "code",
      "source": [
        "port = 12000\n",
        "url = '131.175.120.29'\n",
        "resource = '/83vq7/huvun/g54bl/5w5e3'\n",
        "message = '{\"person_code\": \"10765842\", \"email\": \"francesco1.genovese@mail.polimi.it\", \"msg_code\": \"exlfn8nbde4g\"}'\n",
        "\n",
        "\n",
        "def send_put_request(url, port, resource, data):\n",
        "    try:\n",
        "        full_url = f\"http://{url}:{port}/{resource}\"\n",
        "        response = requests.delete(full_url, data=data)\n",
        "        response.raise_for_status()\n",
        "        return response\n",
        "    except requests.exceptions.RequestException as e:\n",
        "        print(f\"An error occurred: {e}\")\n",
        "        return None\n",
        "\n",
        "response = send_put_request(url, port, resource, message.encode())\n",
        "\n",
        "if response:\n",
        "    print(\"Request successful!\")\n",
        "    print(f\"Status code: {response.status_code}\")\n",
        "    print(f\"Response content: {response.text}\")\n",
        "    # Process the response as needed\n",
        "else:\n",
        "  print(\"Request failed!\")\n"
      ],
      "metadata": {
        "colab": {
          "base_uri": "https://localhost:8080/"
        },
        "id": "4S7jCbfTAhe3",
        "outputId": "cb6218eb-d04d-45e2-933c-e773a2ba6572"
      },
      "execution_count": null,
      "outputs": [
        {
          "output_type": "stream",
          "name": "stdout",
          "text": [
            "Request successful!\n",
            "Status code: 200\n",
            "Response content: Complimenti, hai completato il gioco! Manda questo codice nel Form per reclamare la tua vittoria. Code Starts here -->ai3v285g<-- End of Code\n"
          ]
        }
      ]
    }
  ]
}